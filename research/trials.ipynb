{
 "cells": [
  {
   "cell_type": "markdown",
   "metadata": {},
   "source": [
    "# load enviornmnet variables"
   ]
  },
  {
   "cell_type": "code",
   "execution_count": 1,
   "metadata": {},
   "outputs": [],
   "source": [
    "from dotenv import load_dotenv\n",
    "import os\n",
    "\n",
    "load_dotenv()\n",
    "\n",
    "GEMINI_API_KEY = os.getenv(\"GEMINI_API_KEY\")\n"
   ]
  },
  {
   "cell_type": "markdown",
   "metadata": {},
   "source": [
    "# Importing necessary libraries"
   ]
  },
  {
   "cell_type": "code",
   "execution_count": 2,
   "metadata": {},
   "outputs": [
    {
     "name": "stderr",
     "output_type": "stream",
     "text": [
      "e:\\Wappnet internship\\Cure-Now Trial\\New folder\\Cure-Now\\Lib\\site-packages\\tqdm\\auto.py:21: TqdmWarning: IProgress not found. Please update jupyter and ipywidgets. See https://ipywidgets.readthedocs.io/en/stable/user_install.html\n",
      "  from .autonotebook import tqdm as notebook_tqdm\n"
     ]
    }
   ],
   "source": [
    "import google.generativeai as genai\n",
    "from langchain.document_loaders import PyPDFLoader,DirectoryLoader\n",
    "from langchain.text_splitter import RecursiveCharacterTextSplitter\n",
    "from langchain.embeddings import HuggingFaceEmbeddings\n",
    "from langchain_pinecone import PineconeVectorStore\n",
    "from pinecone import Pinecone,ServerlessSpec"
   ]
  },
  {
   "cell_type": "markdown",
   "metadata": {},
   "source": [
    "## Load pdf data"
   ]
  },
  {
   "cell_type": "code",
   "execution_count": 3,
   "metadata": {},
   "outputs": [],
   "source": [
    "def load_pdf_file(data):\n",
    "    loader = DirectoryLoader(data,\n",
    "                             glob=\"*.pdf\",\n",
    "                             loader_cls=PyPDFLoader)\n",
    "    \n",
    "    documents = loader.load()\n",
    "\n",
    "    return documents\n",
    "extracted_data = load_pdf_file(data=\"data/\")"
   ]
  },
  {
   "cell_type": "markdown",
   "metadata": {},
   "source": [
    "## spliting text into chunks"
   ]
  },
  {
   "cell_type": "code",
   "execution_count": 4,
   "metadata": {},
   "outputs": [
    {
     "name": "stdout",
     "output_type": "stream",
     "text": [
      "Length of text chunks = 4471\n"
     ]
    }
   ],
   "source": [
    "def text_split(extracted_data):\n",
    "    text_splitter = RecursiveCharacterTextSplitter(chunk_size = 1000,chunk_overlap = 100)\n",
    "    text_chunks = text_splitter.split_documents(extracted_data)\n",
    "    return text_chunks\n",
    "\n",
    "text_chunks = text_split(extracted_data)\n",
    "print(f\"Length of text chunks = {len(text_chunks)}\")"
   ]
  },
  {
   "cell_type": "markdown",
   "metadata": {},
   "source": [
    "## Generate embeddings"
   ]
  },
  {
   "cell_type": "code",
   "execution_count": 5,
   "metadata": {},
   "outputs": [
    {
     "name": "stderr",
     "output_type": "stream",
     "text": [
      "C:\\Users\\HARSH DADIYA\\AppData\\Local\\Temp\\ipykernel_24296\\3321829888.py:2: LangChainDeprecationWarning: The class `HuggingFaceEmbeddings` was deprecated in LangChain 0.2.2 and will be removed in 1.0. An updated version of the class exists in the :class:`~langchain-huggingface package and should be used instead. To use it run `pip install -U :class:`~langchain-huggingface` and import as `from :class:`~langchain_huggingface import HuggingFaceEmbeddings``.\n",
      "  embeddings = HuggingFaceEmbeddings(model_name=\"sentence-transformers/all-MiniLM-L6-v2\")\n"
     ]
    },
    {
     "name": "stdout",
     "output_type": "stream",
     "text": [
      "Length 384\n"
     ]
    }
   ],
   "source": [
    "def download_hugging_face_embeddings():\n",
    "    embeddings = HuggingFaceEmbeddings(model_name=\"sentence-transformers/all-MiniLM-L6-v2\")\n",
    "    return embeddings\n",
    "\n",
    "embeddings = download_hugging_face_embeddings()\n",
    "query_result = embeddings.embed_query(\"Hello World!\")\n",
    "print(\"Length\",len(query_result))"
   ]
  },
  {
   "cell_type": "markdown",
   "metadata": {},
   "source": [
    "# Initialize Pinecone"
   ]
  },
  {
   "cell_type": "code",
   "execution_count": null,
   "metadata": {},
   "outputs": [],
   "source": [
    "PINECONE_API_KEY: str = os.environ.get('PINECONE_API_KEY')\n",
    "GEMINI_API_KEY: str = os.environ.get(\"GEMINI_API_KEY\")"
   ]
  },
  {
   "cell_type": "code",
   "execution_count": 7,
   "metadata": {},
   "outputs": [],
   "source": [
    "# always run 1 times because it create index in vector database\n",
    "from pinecone import Pinecone, ServerlessSpec\n",
    "\n",
    "pc = Pinecone(api_key=PINECONE_API_KEY)\n",
    "index_name = \"cure-now\"\n",
    "\n",
    "pc.create_index(\n",
    "    name=index_name,\n",
    "    dimension=384, # Replace with your model dimensions\n",
    "    metric=\"cosine\", # Replace with your model metric\n",
    "    spec=ServerlessSpec(\n",
    "        cloud=\"aws\",\n",
    "        region=\"us-east-1\"\n",
    "    ) \n",
    ")"
   ]
  },
  {
   "cell_type": "code",
   "execution_count": 8,
   "metadata": {},
   "outputs": [
    {
     "data": {
      "text/plain": [
       "<pinecone.control.pinecone.Pinecone at 0x232b6e31730>"
      ]
     },
     "execution_count": 8,
     "metadata": {},
     "output_type": "execute_result"
    }
   ],
   "source": [
    "#Initializing the Pinecone\n",
    "Pinecone(api_key=PINECONE_API_KEY,environment = \"us-east-1\"\n",
    "              )"
   ]
  },
  {
   "cell_type": "markdown",
   "metadata": {},
   "source": [
    "## storing data in pinecone database"
   ]
  },
  {
   "cell_type": "code",
   "execution_count": 9,
   "metadata": {},
   "outputs": [],
   "source": [
    "from langchain_pinecone import PineconeVectorStore\n",
    "\n",
    "docresearch = PineconeVectorStore.from_documents(\n",
    "    documents=text_chunks,\n",
    "    index_name=index_name,\n",
    "    embedding=embeddings,\n",
    ")"
   ]
  },
  {
   "cell_type": "markdown",
   "metadata": {},
   "source": [
    "## Load data from vectordb(pinecone) index"
   ]
  },
  {
   "cell_type": "code",
   "execution_count": 10,
   "metadata": {},
   "outputs": [],
   "source": [
    "#Load Existing index\n",
    "\n",
    "from langchain_pinecone import PineconeVectorStore\n",
    "\n",
    "#embed each chunk and upsert the embeddings into your Pinecone index.\n",
    "\n",
    "docresearch = PineconeVectorStore.from_existing_index(\n",
    "    index_name=index_name,\n",
    "    embedding=embeddings\n",
    ")"
   ]
  },
  {
   "cell_type": "code",
   "execution_count": 11,
   "metadata": {},
   "outputs": [],
   "source": [
    "retriever = docresearch.as_retriever(search_type = 'similarity',search_kwargs = {\"k\" : 3})\n"
   ]
  },
  {
   "cell_type": "code",
   "execution_count": 12,
   "metadata": {},
   "outputs": [
    {
     "name": "stdout",
     "output_type": "stream",
     "text": [
      "[Document(id='c52fa619-c221-4ce7-958e-33b1adbe8f5c', metadata={'creationdate': '2004-12-18T17:00:02-05:00', 'creator': 'PyPDF', 'moddate': '2004-12-18T16:15:31-06:00', 'page': 239.0, 'page_label': '240', 'producer': 'PDFlib+PDI 5.0.0 (SunOS)', 'source': 'data\\\\Medical_book.pdf', 'total_pages': 637.0}, page_content='Isotretinoin (Accutane) is prescribed only for very\\nsevere, disfiguring acne.\\nAcne is a skin condition that occurs when pores or\\nhair follicles become blocked. This allows a waxy\\nmaterial, sebum, to collect inside the pores or follicles.\\nNormally, sebum flows out onto the skin and hair to\\nform a protective coating, but when it cannot get out,\\nsmall swellings develop on the skin surface. Bacteria\\nand dead skin cells can also collect that can cause\\ninflammation. Swellings that are small and not\\ninflamed are whiteheads or blackheads. When they\\nbecome inflamed, they turn into pimples. Pimples that\\nfill with pus are called pustules.\\nAcne cannot be cured, but acne drugs can help clear\\nthe skin. Benzoyl peroxide and tretinoin work by mildly\\nirritating the skin. This encourages skin cells to slough\\noff, which helps open blocked pores. Benzoyl peroxide\\nalso kills bacteria, which helps prevent whiteheads and\\nblackheads from turning into pimples. Isotretinoin'), Document(id='590850dd-e78d-4d23-bcac-7c5264f49ff3', metadata={'creationdate': '2004-12-18T17:00:02-05:00', 'creator': 'PyPDF', 'moddate': '2004-12-18T16:15:31-06:00', 'page': 37.0, 'page_label': '38', 'producer': 'PDFlib+PDI 5.0.0 (SunOS)', 'source': 'data\\\\Medical_book.pdf', 'total_pages': 637.0}, page_content='result after the plugged follicle is invaded by Propioni-\\nbacterium acnes , a bacteria that normally lives on the\\nskin. A pimple forms when the damaged follicle weakens\\nand bursts open, releasing sebum, bacteria, and skin and\\nwhite blood cells into the surrounding tissues. Inflamed\\npimples near the skin’s surface are called papules; when\\ndeeper, they are called pustules. The most severe type of\\nacne consists of cysts (closed sacs) and nodules (hard\\nswellings). Scarring occurs when new skin cells are laid\\ndown to replace damaged cells.\\nThe most common sites of acne are the face, chest,\\nshoulders, and back since these are the parts of the body\\nwhere the most sebaceous follicles are found.\\nCauses and symptoms\\nThe exact cause of acne is unknown. Several risk\\nfactors have been identified:\\n• Age. Due to the hormonal changes they experience,\\nteenagers are more likely to develop acne.\\n• Gender. Boys have more severe acne and develop it\\nmore often than girls.'), Document(id='25ef0d2a-8e77-41d2-9389-c768015830eb', metadata={'creationdate': '2004-12-18T17:00:02-05:00', 'creator': 'PyPDF', 'moddate': '2004-12-18T16:15:31-06:00', 'page': 37.0, 'page_label': '38', 'producer': 'PDFlib+PDI 5.0.0 (SunOS)', 'source': 'data\\\\Medical_book.pdf', 'total_pages': 637.0}, page_content='Resources\\nBOOKS\\nA Manual of Laboratory and Diagnostic Tests.5th ed. Ed.\\nFrancis Fishback. Philadelphia: Lippincott, 1996.\\nGarza, Diana, and Kathleen Becan-McBride. Phlebotomy\\nHandbook. 4th ed. Stamford: Appleton & Lange, 1996.\\nPERIODICALS\\nMoul, Judd W., et al. “The Contemporary Value of Pretreat-\\nment Prostatic Acid Phosphatase to Predict Pathological\\nStage and Recurrence in Radical Prostatectomy Cases.”\\nJournal of Urology(Mar. 1998): 935-940.\\nNancy J. Nordenson\\nAcid reflux see Heartburn\\nAcidosis see Respiratory acidosis; Renal\\ntubular acidosis; Metabolic acidosis\\nAcne\\nDefinition\\nAcne is a common skin disease characterized by\\npimples on the face, chest, and back. It occurs when the\\npores of the skin become clogged with oil, dead skin\\ncells, and bacteria.\\nDescription\\nAcne vulgaris, the medical term for common acne, is\\nthe most common skin disease. It affects nearly 17 million\\npeople in the United States. While acne can arise at any')]\n"
     ]
    }
   ],
   "source": [
    "retrieved_docs = retriever.invoke(\"What is Acne?\")\n",
    "print(retrieved_docs)"
   ]
  },
  {
   "cell_type": "markdown",
   "metadata": {},
   "source": [
    "## Use gemini for respone of the question."
   ]
  },
  {
   "cell_type": "code",
   "execution_count": 15,
   "metadata": {},
   "outputs": [],
   "source": [
    "# from langchain_openai import OpenAI\n",
    "\n",
    "# llm = OpenAI(temperature=0.4,max_tokens=400)\n",
    "from langchain_google_genai import ChatGoogleGenerativeAI\n",
    "\n",
    "llm = ChatGoogleGenerativeAI(\n",
    "    model=\"gemini-2.0-flash-lite-preview-02-05\",\n",
    "    temperature=0,\n",
    "    google_api_key = GEMINI_API_KEY,\n",
    "    max_tokens=None,\n",
    "    timeout=None,\n",
    "    max_retries=2,\n",
    "    # other params...\n",
    ")"
   ]
  },
  {
   "cell_type": "code",
   "execution_count": 17,
   "metadata": {},
   "outputs": [],
   "source": [
    "from langchain.prompts import ChatPromptTemplate"
   ]
  },
  {
   "cell_type": "code",
   "execution_count": 18,
   "metadata": {},
   "outputs": [],
   "source": [
    "system_prompt = (\n",
    "    \"You are an assistant for question-answering tasks. \"\n",
    "    \"Use the following piences of retrieved context to answer \"\n",
    "    \"the question.If you don't know the answer ,say that you \"\n",
    "    \"don't know.Use three sentences maximum and keep the \"\n",
    "    \"answer concise.\"\n",
    "    \"\\n\\n\"\n",
    "    \"{context}\"\n",
    ")\n",
    "\n",
    "prompt = ChatPromptTemplate.from_messages(\n",
    "    [\n",
    "        (\"system\",system_prompt),\n",
    "        (\"human\",\"{input}\"),\n",
    "    ]\n",
    ")"
   ]
  },
  {
   "cell_type": "code",
   "execution_count": 22,
   "metadata": {},
   "outputs": [],
   "source": [
    "from langchain.chains.combine_documents import create_stuff_documents_chain\n",
    "from langchain.chains import create_retrieval_chain"
   ]
  },
  {
   "cell_type": "code",
   "execution_count": 23,
   "metadata": {},
   "outputs": [],
   "source": [
    "question_answer_chain = create_stuff_documents_chain(llm,prompt)\n",
    "rag_chain = create_retrieval_chain(retriever,question_answer_chain)\n",
    "# rag_chain = create_retrieval_chain(pinecone_vector_store,question_answer_chain)"
   ]
  },
  {
   "cell_type": "code",
   "execution_count": 24,
   "metadata": {},
   "outputs": [
    {
     "name": "stdout",
     "output_type": "stream",
     "text": [
      "I am sorry, but I cannot answer the question. The provided context does not contain information about chronic diseases.\n"
     ]
    }
   ],
   "source": [
    "response = rag_chain.invoke({\"input\": \" what are the chronical diseases in a very simple terms understandble by non doctors \"})\n",
    "print(response[\"answer\"])"
   ]
  },
  {
   "cell_type": "code",
   "execution_count": 25,
   "metadata": {},
   "outputs": [],
   "source": [
    "retriever = docresearch.as_retriever(search_type='similarity', search_kwargs={'k': 5})"
   ]
  },
  {
   "cell_type": "code",
   "execution_count": 26,
   "metadata": {},
   "outputs": [
    {
     "name": "stdout",
     "output_type": "stream",
     "text": [
      "Isotretinoin (Accutane) is prescribed only for very\n",
      "severe, disfiguring acne.\n",
      "Acne is a skin condition that occurs when pores or\n",
      "hair follicles become blocked. This allows a waxy\n",
      "material, sebum, to collect inside the pores or follicles.\n",
      "Normally, sebum flows out onto the skin and hair to\n",
      "form a protective coating, but when it cannot get out,\n",
      "small swellings develop on the skin surface. Bacteria\n",
      "and dead skin cells can also collect that can cause\n",
      "inflammation. Swellings that are small and not\n",
      "inflamed are whiteheads or blackheads. When they\n",
      "become inflamed, they turn into pimples. Pimples that\n",
      "fill with pus are called pustules.\n",
      "Acne cannot be cured, but acne drugs can help clear\n",
      "the skin. Benzoyl peroxide and tretinoin work by mildly\n",
      "irritating the skin. This encourages skin cells to slough\n",
      "off, which helps open blocked pores. Benzoyl peroxide\n",
      "also kills bacteria, which helps prevent whiteheads and\n",
      "blackheads from turning into pimples. Isotretinoin\n",
      "result after the plugged follicle is invaded by Propioni-\n",
      "bacterium acnes , a bacteria that normally lives on the\n",
      "skin. A pimple forms when the damaged follicle weakens\n",
      "and bursts open, releasing sebum, bacteria, and skin and\n",
      "white blood cells into the surrounding tissues. Inflamed\n",
      "pimples near the skin’s surface are called papules; when\n",
      "deeper, they are called pustules. The most severe type of\n",
      "acne consists of cysts (closed sacs) and nodules (hard\n",
      "swellings). Scarring occurs when new skin cells are laid\n",
      "down to replace damaged cells.\n",
      "The most common sites of acne are the face, chest,\n",
      "shoulders, and back since these are the parts of the body\n",
      "where the most sebaceous follicles are found.\n",
      "Causes and symptoms\n",
      "The exact cause of acne is unknown. Several risk\n",
      "factors have been identified:\n",
      "• Age. Due to the hormonal changes they experience,\n",
      "teenagers are more likely to develop acne.\n",
      "• Gender. Boys have more severe acne and develop it\n",
      "more often than girls.\n",
      "Resources\n",
      "BOOKS\n",
      "A Manual of Laboratory and Diagnostic Tests.5th ed. Ed.\n",
      "Francis Fishback. Philadelphia: Lippincott, 1996.\n",
      "Garza, Diana, and Kathleen Becan-McBride. Phlebotomy\n",
      "Handbook. 4th ed. Stamford: Appleton & Lange, 1996.\n",
      "PERIODICALS\n",
      "Moul, Judd W., et al. “The Contemporary Value of Pretreat-\n",
      "ment Prostatic Acid Phosphatase to Predict Pathological\n",
      "Stage and Recurrence in Radical Prostatectomy Cases.”\n",
      "Journal of Urology(Mar. 1998): 935-940.\n",
      "Nancy J. Nordenson\n",
      "Acid reflux see Heartburn\n",
      "Acidosis see Respiratory acidosis; Renal\n",
      "tubular acidosis; Metabolic acidosis\n",
      "Acne\n",
      "Definition\n",
      "Acne is a common skin disease characterized by\n",
      "pimples on the face, chest, and back. It occurs when the\n",
      "pores of the skin become clogged with oil, dead skin\n",
      "cells, and bacteria.\n",
      "Description\n",
      "Acne vulgaris, the medical term for common acne, is\n",
      "the most common skin disease. It affects nearly 17 million\n",
      "people in the United States. While acne can arise at any\n"
     ]
    }
   ],
   "source": [
    "system_prompt = (\n",
    "    \"You are an AI assistant. Use the retrieved documents to answer the question. \"\n",
    "    \"If the answer is not in the documents, say 'The provided documents do not contain enough information.' \"\n",
    "    \"Provide a concise and clear response.\"\n",
    "    \"\\n\\n\"\n",
    "    \"{context}\"\n",
    ")\n",
    "for doc in retrieved_docs:\n",
    "    print(doc.page_content)  # Ensure the content has useful information"
   ]
  },
  {
   "cell_type": "code",
   "execution_count": null,
   "metadata": {},
   "outputs": [],
   "source": []
  }
 ],
 "metadata": {
  "kernelspec": {
   "display_name": "Cure-Now",
   "language": "python",
   "name": "python3"
  },
  "language_info": {
   "codemirror_mode": {
    "name": "ipython",
    "version": 3
   },
   "file_extension": ".py",
   "mimetype": "text/x-python",
   "name": "python",
   "nbconvert_exporter": "python",
   "pygments_lexer": "ipython3",
   "version": "3.12.3"
  }
 },
 "nbformat": 4,
 "nbformat_minor": 2
}
